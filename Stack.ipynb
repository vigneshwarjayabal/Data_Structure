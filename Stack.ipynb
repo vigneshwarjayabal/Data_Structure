{
  "nbformat": 4,
  "nbformat_minor": 0,
  "metadata": {
    "colab": {
      "provenance": [],
      "authorship_tag": "ABX9TyMa3dYw7r8U8nBQt1+jF3uk",
      "include_colab_link": true
    },
    "kernelspec": {
      "name": "python3",
      "display_name": "Python 3"
    },
    "language_info": {
      "name": "python"
    }
  },
  "cells": [
    {
      "cell_type": "markdown",
      "metadata": {
        "id": "view-in-github",
        "colab_type": "text"
      },
      "source": [
        "<a href=\"https://colab.research.google.com/github/vigneshwarjayabal/Data_Structure/blob/main/Stack.ipynb\" target=\"_parent\"><img src=\"https://colab.research.google.com/assets/colab-badge.svg\" alt=\"Open In Colab\"/></a>"
      ]
    },
    {
      "cell_type": "code",
      "execution_count": 3,
      "metadata": {
        "id": "82WLzwwfnxqx"
      },
      "outputs": [],
      "source": [
        "# ''' Data Structure is a way to store and organize the data so that it can be accessed effectively\n",
        "# Built in Data structure:\n",
        "# list\n",
        "# tuple\n",
        "# set\n",
        "# dictionary\n",
        "\n",
        "# User defined Data Structure\n",
        "# Stack\n",
        "# Queue\n",
        "# Linked List\n",
        "# Tree\n",
        "# Graph'''"
      ]
    },
    {
      "cell_type": "code",
      "source": [
        "# ''' Stack:\n",
        "# It is an ordered collection of items.\n",
        "\n",
        "# The addition of new item and removal\n",
        "# of new item always taken placed at\n",
        "# same end.\n",
        "\n",
        "# This end is called as top and\n",
        "# opposite end is called as base.\n",
        "\n",
        "# Stack stores the items in\n",
        "# LIFO-----> Last In First Out\n",
        "# or\n",
        "# FILO-----> Fist In Last Out\n",
        "\n",
        "# Operation is Stack:\n",
        "# Push----> Adds elements into the stack\n",
        "# pop------> Remove the elemnts from the stack\n",
        "# peek or top ---> will give you the elemnent which is present at top\n",
        "# is Empty-------> which will tell you whether stack is empty or not\n",
        "\n",
        "# Application of Stack:\n",
        "\n",
        "# Reversing the string\n",
        "# expersion evalution\n",
        "# expersion conversion'''"
      ],
      "metadata": {
        "id": "Altyb48qohnw"
      },
      "execution_count": 2,
      "outputs": []
    },
    {
      "cell_type": "code",
      "source": [
        "# Implement stack uisng list in python\n",
        "# push operation -----> append() method\n",
        "# pop operation ------> pop() method\n",
        "\n"
      ],
      "metadata": {
        "id": "BcRxuafuqYbm"
      },
      "execution_count": 1,
      "outputs": []
    },
    {
      "cell_type": "code",
      "source": [
        "#1.creating a stack\n",
        "\n",
        "stack = []"
      ],
      "metadata": {
        "id": "rAuRy_DIq3vf"
      },
      "execution_count": 4,
      "outputs": []
    },
    {
      "cell_type": "code",
      "source": [
        "# inserting elements in stack\n",
        "stack.append(10)"
      ],
      "metadata": {
        "id": "0Bw3d1rPq852"
      },
      "execution_count": 5,
      "outputs": []
    },
    {
      "cell_type": "code",
      "source": [
        "stack.append(20)"
      ],
      "metadata": {
        "id": "-5zq4WBtrDNe"
      },
      "execution_count": 6,
      "outputs": []
    },
    {
      "cell_type": "code",
      "source": [
        "stack.append(30)"
      ],
      "metadata": {
        "id": "1v8xP8-xrFWL"
      },
      "execution_count": 7,
      "outputs": []
    },
    {
      "cell_type": "code",
      "source": [
        "stack"
      ],
      "metadata": {
        "colab": {
          "base_uri": "https://localhost:8080/"
        },
        "id": "MIy8o0QirHhk",
        "outputId": "7f6e31b5-7631-403a-df5e-d46f99799313"
      },
      "execution_count": 8,
      "outputs": [
        {
          "output_type": "execute_result",
          "data": {
            "text/plain": [
              "[10, 20, 30]"
            ]
          },
          "metadata": {},
          "execution_count": 8
        }
      ]
    },
    {
      "cell_type": "code",
      "source": [
        "# Removing a elements from stack\n",
        "\n",
        "stack.pop()"
      ],
      "metadata": {
        "colab": {
          "base_uri": "https://localhost:8080/"
        },
        "id": "wofAdno_rJY-",
        "outputId": "5f49cae4-2246-4969-d4e7-022c4085fd1c"
      },
      "execution_count": 9,
      "outputs": [
        {
          "output_type": "execute_result",
          "data": {
            "text/plain": [
              "30"
            ]
          },
          "metadata": {},
          "execution_count": 9
        }
      ]
    },
    {
      "cell_type": "code",
      "source": [
        "stack.pop()"
      ],
      "metadata": {
        "colab": {
          "base_uri": "https://localhost:8080/"
        },
        "id": "UTf-eMc8rRUZ",
        "outputId": "07a6b215-f260-4ad7-de2e-913967009a98"
      },
      "execution_count": 10,
      "outputs": [
        {
          "output_type": "execute_result",
          "data": {
            "text/plain": [
              "20"
            ]
          },
          "metadata": {},
          "execution_count": 10
        }
      ]
    },
    {
      "cell_type": "code",
      "source": [
        "stack.pop()"
      ],
      "metadata": {
        "colab": {
          "base_uri": "https://localhost:8080/"
        },
        "id": "YdUV1GXarSt4",
        "outputId": "c8f3ea8f-6b0e-435b-fbf0-815ce5cb4ff7"
      },
      "execution_count": 11,
      "outputs": [
        {
          "output_type": "execute_result",
          "data": {
            "text/plain": [
              "10"
            ]
          },
          "metadata": {},
          "execution_count": 11
        }
      ]
    },
    {
      "cell_type": "code",
      "source": [
        "# Check whether stack is empty or not\n",
        "\n",
        "len(stack)==0"
      ],
      "metadata": {
        "colab": {
          "base_uri": "https://localhost:8080/"
        },
        "id": "xWT-_ALerT6G",
        "outputId": "90d072a7-6baf-454f-fc62-ee4e6c76be04"
      },
      "execution_count": 13,
      "outputs": [
        {
          "output_type": "execute_result",
          "data": {
            "text/plain": [
              "True"
            ]
          },
          "metadata": {},
          "execution_count": 13
        }
      ]
    },
    {
      "cell_type": "code",
      "source": [
        "not stack"
      ],
      "metadata": {
        "colab": {
          "base_uri": "https://localhost:8080/"
        },
        "id": "TkchLPJ-rVAO",
        "outputId": "a24a088e-395c-4b04-877d-bac1f6adb7ed"
      },
      "execution_count": 14,
      "outputs": [
        {
          "output_type": "execute_result",
          "data": {
            "text/plain": [
              "True"
            ]
          },
          "metadata": {},
          "execution_count": 14
        }
      ]
    },
    {
      "cell_type": "code",
      "source": [
        "stack.append(10)\n",
        "stack.append(30)\n",
        "stack.append(50)"
      ],
      "metadata": {
        "id": "-sZ6PEuBrpl3"
      },
      "execution_count": 15,
      "outputs": []
    },
    {
      "cell_type": "code",
      "source": [
        "stack"
      ],
      "metadata": {
        "colab": {
          "base_uri": "https://localhost:8080/"
        },
        "id": "IaLpL0swrvvw",
        "outputId": "9fbed525-46a3-4d63-b8a6-0a9ad8eb8ce4"
      },
      "execution_count": 16,
      "outputs": [
        {
          "output_type": "execute_result",
          "data": {
            "text/plain": [
              "[10, 30, 50]"
            ]
          },
          "metadata": {},
          "execution_count": 16
        }
      ]
    },
    {
      "cell_type": "code",
      "source": [
        "# Accesing top ekement from stack\n",
        "\n",
        "# the last element of list is the top element of stack\n",
        "\n",
        "stack[-1]"
      ],
      "metadata": {
        "colab": {
          "base_uri": "https://localhost:8080/"
        },
        "id": "qo_4wgewrxE1",
        "outputId": "79d42cd0-1075-4fde-b182-d6215ac4a0f8"
      },
      "execution_count": 17,
      "outputs": [
        {
          "output_type": "execute_result",
          "data": {
            "text/plain": [
              "50"
            ]
          },
          "metadata": {},
          "execution_count": 17
        }
      ]
    },
    {
      "cell_type": "code",
      "source": [
        "stack = []\n",
        "\n",
        "def push():\n",
        "  element = input(\"enter the element:\")\n",
        "  stack.append(element)\n",
        "  print(stack)\n",
        "\n",
        "def pop_element():\n",
        "  if not stack:\n",
        "    print(\"Stack is empty!\")\n",
        "  else:\n",
        "    e = stack.pop()\n",
        "    print(\"removed element:\",e)\n",
        "    print(stack)\n",
        "\n",
        "while True:\n",
        "  print(\"Select the operation 1.push 2.pop 3.quit\")\n",
        "  choice = int(input())\n",
        "  if choice ==1:\n",
        "    push()\n",
        "  elif choice == 2:\n",
        "    pop_element()\n",
        "  elif choice == 3:\n",
        "    break\n",
        "  else:\n",
        "    print(\"Enter the correct operation\")\n",
        ""
      ],
      "metadata": {
        "colab": {
          "base_uri": "https://localhost:8080/"
        },
        "id": "hD1WVAl3sEVI",
        "outputId": "2d5558f6-c1ea-44b4-9f35-2182346dc010"
      },
      "execution_count": 18,
      "outputs": [
        {
          "name": "stdout",
          "output_type": "stream",
          "text": [
            "Select the operation 1.push 2.pop 3.quit\n",
            "1\n",
            "enter the element:10\n",
            "['10']\n",
            "Select the operation 1.push 2.pop 3.quit\n",
            "1\n",
            "enter the element:30\n",
            "['10', '30']\n",
            "Select the operation 1.push 2.pop 3.quit\n",
            "1\n",
            "enter the element:50\n",
            "['10', '30', '50']\n",
            "Select the operation 1.push 2.pop 3.quit\n",
            "1\n",
            "enter the element:40\n",
            "['10', '30', '50', '40']\n",
            "Select the operation 1.push 2.pop 3.quit\n",
            "2\n",
            "removed element: 40\n",
            "['10', '30', '50']\n",
            "Select the operation 1.push 2.pop 3.quit\n",
            "2\n",
            "removed element: 50\n",
            "['10', '30']\n",
            "Select the operation 1.push 2.pop 3.quit\n",
            "2\n",
            "removed element: 30\n",
            "['10']\n",
            "Select the operation 1.push 2.pop 3.quit\n",
            "2\n",
            "removed element: 10\n",
            "[]\n",
            "Select the operation 1.push 2.pop 3.quit\n",
            "3\n"
          ]
        }
      ]
    },
    {
      "cell_type": "code",
      "source": [
        "stack = []\n",
        "\n",
        "def push():\n",
        "  if len(stack)==n:\n",
        "    print(\"stack is full!\")\n",
        "  else:\n",
        "    element = input(\"enter the element:\")\n",
        "    stack.append(element)\n",
        "    print(stack)\n",
        "\n",
        "def pop_element():\n",
        "  if not stack:\n",
        "    print(\"Stack is empty!\")\n",
        "  else:\n",
        "    e = stack.pop()\n",
        "    print(\"removed element:\",e)\n",
        "    print(stack)\n",
        "\n",
        "n = int(input(\"Enter the limit of stack:\"))\n",
        "while True:\n",
        "  print(\"Select the operation 1.push 2.pop 3.quit\")\n",
        "  choice = int(input())\n",
        "  if choice ==1:\n",
        "    push()\n",
        "  elif choice == 2:\n",
        "    pop_element()\n",
        "  elif choice == 3:\n",
        "    break\n",
        "  else:\n",
        "    print(\"Enter the correct operation\")\n",
        "\n",
        "\n"
      ],
      "metadata": {
        "colab": {
          "base_uri": "https://localhost:8080/"
        },
        "id": "AQS4zLagtRW0",
        "outputId": "d1a08fb4-955c-48ef-828b-bb30439d83ce"
      },
      "execution_count": 21,
      "outputs": [
        {
          "name": "stdout",
          "output_type": "stream",
          "text": [
            "Enter the limit of stack:3\n",
            "Select the operation 1.push 2.pop 3.quit\n",
            "1\n",
            "enter the element:30\n",
            "['30']\n",
            "Select the operation 1.push 2.pop 3.quit\n",
            "1\n",
            "enter the element:60\n",
            "['30', '60']\n",
            "Select the operation 1.push 2.pop 3.quit\n",
            "1\n",
            "enter the element:90\n",
            "['30', '60', '90']\n",
            "Select the operation 1.push 2.pop 3.quit\n",
            "1\n",
            "stack is full!\n",
            "Select the operation 1.push 2.pop 3.quit\n",
            "2\n",
            "removed element: 90\n",
            "['30', '60']\n",
            "Select the operation 1.push 2.pop 3.quit\n",
            "2\n",
            "removed element: 60\n",
            "['30']\n",
            "Select the operation 1.push 2.pop 3.quit\n",
            "3\n"
          ]
        }
      ]
    },
    {
      "cell_type": "code",
      "source": [
        "# implementing Stack using Collections and Queue module\n",
        "''' in collections module there is a class called deck and we can use it as stack\n",
        "    deck----> double ended queue, here we can add the elements in the both side .'''"
      ],
      "metadata": {
        "colab": {
          "base_uri": "https://localhost:8080/",
          "height": 36
        },
        "id": "pk_V6Z1euG-e",
        "outputId": "2763fb99-9a09-4200-82c1-a4a19ad44547"
      },
      "execution_count": 22,
      "outputs": [
        {
          "output_type": "execute_result",
          "data": {
            "text/plain": [
              "' in collections module there is a class called deck and we can use it as stack\\n    deck----> double ended queue, here we can add the elements in the both side .'"
            ],
            "application/vnd.google.colaboratory.intrinsic+json": {
              "type": "string"
            }
          },
          "metadata": {},
          "execution_count": 22
        }
      ]
    },
    {
      "cell_type": "code",
      "source": [
        "import collections"
      ],
      "metadata": {
        "id": "m63DsTxe0YTi"
      },
      "execution_count": 23,
      "outputs": []
    },
    {
      "cell_type": "code",
      "source": [
        "# creating a stack\n",
        "stack = collections.deque()"
      ],
      "metadata": {
        "id": "kEkotHYn0b_r"
      },
      "execution_count": 24,
      "outputs": []
    },
    {
      "cell_type": "code",
      "source": [
        "# add elements in stack\n",
        "\n",
        "stack.append(10)\n",
        "stack.append(20)\n",
        "stack.append(30)"
      ],
      "metadata": {
        "id": "1F2z453s0i38"
      },
      "execution_count": 25,
      "outputs": []
    },
    {
      "cell_type": "code",
      "source": [
        "stack"
      ],
      "metadata": {
        "colab": {
          "base_uri": "https://localhost:8080/"
        },
        "id": "H5glRkqL1D5a",
        "outputId": "06b6191d-f179-4361-e69c-12b3c155bebd"
      },
      "execution_count": 26,
      "outputs": [
        {
          "output_type": "execute_result",
          "data": {
            "text/plain": [
              "deque([10, 20, 30])"
            ]
          },
          "metadata": {},
          "execution_count": 26
        }
      ]
    },
    {
      "cell_type": "code",
      "source": [
        "# remove elements in stack\n",
        "\n",
        "stack.pop()"
      ],
      "metadata": {
        "colab": {
          "base_uri": "https://localhost:8080/"
        },
        "id": "gVGilhJh1JoQ",
        "outputId": "71790aaa-ced9-4536-e75d-eac55e0bcc1a"
      },
      "execution_count": 27,
      "outputs": [
        {
          "output_type": "execute_result",
          "data": {
            "text/plain": [
              "30"
            ]
          },
          "metadata": {},
          "execution_count": 27
        }
      ]
    },
    {
      "cell_type": "code",
      "source": [
        "stack.pop()"
      ],
      "metadata": {
        "colab": {
          "base_uri": "https://localhost:8080/"
        },
        "id": "4g3BI9nG1ZZb",
        "outputId": "05680d3d-cbcd-4538-8ee6-2b594937d383"
      },
      "execution_count": 28,
      "outputs": [
        {
          "output_type": "execute_result",
          "data": {
            "text/plain": [
              "20"
            ]
          },
          "metadata": {},
          "execution_count": 28
        }
      ]
    },
    {
      "cell_type": "code",
      "source": [
        "# using Queue module\n",
        "\n",
        "''' queue module has class lifo queue\n",
        "    push operation ----> put method\n",
        "    pop operation -----> get method'''"
      ],
      "metadata": {
        "id": "wutaTIaK1bGn"
      },
      "execution_count": null,
      "outputs": []
    },
    {
      "cell_type": "code",
      "source": [
        "import queue"
      ],
      "metadata": {
        "id": "Suy4_1ot1xHW"
      },
      "execution_count": 29,
      "outputs": []
    },
    {
      "cell_type": "code",
      "source": [
        "stack = queue.LifoQueue()"
      ],
      "metadata": {
        "id": "oznosbWc1zEW"
      },
      "execution_count": 30,
      "outputs": []
    },
    {
      "cell_type": "code",
      "source": [
        "stack.put(10)"
      ],
      "metadata": {
        "id": "7q7CuDj-13Ss"
      },
      "execution_count": 31,
      "outputs": []
    },
    {
      "cell_type": "code",
      "source": [
        "stack.put(20)\n",
        "stack.put(30)"
      ],
      "metadata": {
        "id": "EGf24Vik164y"
      },
      "execution_count": 32,
      "outputs": []
    },
    {
      "cell_type": "code",
      "source": [
        "print(stack)"
      ],
      "metadata": {
        "colab": {
          "base_uri": "https://localhost:8080/"
        },
        "id": "eCukxEiH1_Eg",
        "outputId": "696b6257-f360-4173-bdb5-47cca6eb6d08"
      },
      "execution_count": 34,
      "outputs": [
        {
          "output_type": "stream",
          "name": "stdout",
          "text": [
            "<queue.LifoQueue object at 0x7a247c714280>\n"
          ]
        }
      ]
    },
    {
      "cell_type": "code",
      "source": [
        "stack.get()"
      ],
      "metadata": {
        "colab": {
          "base_uri": "https://localhost:8080/"
        },
        "id": "QlDfCTlE2ALd",
        "outputId": "24202e72-c2a7-4c13-85aa-59cf98b4daf0"
      },
      "execution_count": 35,
      "outputs": [
        {
          "output_type": "execute_result",
          "data": {
            "text/plain": [
              "30"
            ]
          },
          "metadata": {},
          "execution_count": 35
        }
      ]
    },
    {
      "cell_type": "code",
      "source": [
        "stack = queue.LifoQueue(3)"
      ],
      "metadata": {
        "id": "iHHYUVvY20_-"
      },
      "execution_count": 37,
      "outputs": []
    },
    {
      "cell_type": "code",
      "source": [
        "stack.put(20)\n",
        "stack.put(30)\n",
        "stack.put(40)"
      ],
      "metadata": {
        "id": "y_bIxKKk26s2"
      },
      "execution_count": 38,
      "outputs": []
    },
    {
      "cell_type": "code",
      "source": [
        "stack.put(40,timeout=1)"
      ],
      "metadata": {
        "colab": {
          "base_uri": "https://localhost:8080/",
          "height": 263
        },
        "id": "YjOVKupM3HOS",
        "outputId": "422ce9ed-f12e-4927-dae4-2108a24de1f1"
      },
      "execution_count": 41,
      "outputs": [
        {
          "output_type": "error",
          "ename": "Full",
          "evalue": "",
          "traceback": [
            "\u001b[0;31m---------------------------------------------------------------------------\u001b[0m",
            "\u001b[0;31mFull\u001b[0m                                      Traceback (most recent call last)",
            "\u001b[0;32m<ipython-input-41-a547a3c27a12>\u001b[0m in \u001b[0;36m<cell line: 1>\u001b[0;34m()\u001b[0m\n\u001b[0;32m----> 1\u001b[0;31m \u001b[0mstack\u001b[0m\u001b[0;34m.\u001b[0m\u001b[0mput\u001b[0m\u001b[0;34m(\u001b[0m\u001b[0;36m40\u001b[0m\u001b[0;34m,\u001b[0m\u001b[0mtimeout\u001b[0m\u001b[0;34m=\u001b[0m\u001b[0;36m1\u001b[0m\u001b[0;34m)\u001b[0m\u001b[0;34m\u001b[0m\u001b[0;34m\u001b[0m\u001b[0m\n\u001b[0m",
            "\u001b[0;32m/usr/lib/python3.10/queue.py\u001b[0m in \u001b[0;36mput\u001b[0;34m(self, item, block, timeout)\u001b[0m\n\u001b[1;32m    146\u001b[0m                         \u001b[0mremaining\u001b[0m \u001b[0;34m=\u001b[0m \u001b[0mendtime\u001b[0m \u001b[0;34m-\u001b[0m \u001b[0mtime\u001b[0m\u001b[0;34m(\u001b[0m\u001b[0;34m)\u001b[0m\u001b[0;34m\u001b[0m\u001b[0;34m\u001b[0m\u001b[0m\n\u001b[1;32m    147\u001b[0m                         \u001b[0;32mif\u001b[0m \u001b[0mremaining\u001b[0m \u001b[0;34m<=\u001b[0m \u001b[0;36m0.0\u001b[0m\u001b[0;34m:\u001b[0m\u001b[0;34m\u001b[0m\u001b[0;34m\u001b[0m\u001b[0m\n\u001b[0;32m--> 148\u001b[0;31m                             \u001b[0;32mraise\u001b[0m \u001b[0mFull\u001b[0m\u001b[0;34m\u001b[0m\u001b[0;34m\u001b[0m\u001b[0m\n\u001b[0m\u001b[1;32m    149\u001b[0m                         \u001b[0mself\u001b[0m\u001b[0;34m.\u001b[0m\u001b[0mnot_full\u001b[0m\u001b[0;34m.\u001b[0m\u001b[0mwait\u001b[0m\u001b[0;34m(\u001b[0m\u001b[0mremaining\u001b[0m\u001b[0;34m)\u001b[0m\u001b[0;34m\u001b[0m\u001b[0;34m\u001b[0m\u001b[0m\n\u001b[1;32m    150\u001b[0m             \u001b[0mself\u001b[0m\u001b[0;34m.\u001b[0m\u001b[0m_put\u001b[0m\u001b[0;34m(\u001b[0m\u001b[0mitem\u001b[0m\u001b[0;34m)\u001b[0m\u001b[0;34m\u001b[0m\u001b[0;34m\u001b[0m\u001b[0m\n",
            "\u001b[0;31mFull\u001b[0m: "
          ]
        }
      ]
    },
    {
      "cell_type": "code",
      "source": [],
      "metadata": {
        "id": "CRTZ5dxU3Stu"
      },
      "execution_count": null,
      "outputs": []
    }
  ]
}